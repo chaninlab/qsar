{
  "nbformat": 4,
  "nbformat_minor": 0,
  "metadata": {
    "accelerator": "GPU",
    "colab": {
      "name": "Work III .ipynb",
      "provenance": [],
      "collapsed_sections": []
    },
    "kernelspec": {
      "display_name": "Python 3",
      "name": "python3"
    }
  },
  "cells": [
    {
      "cell_type": "markdown",
      "metadata": {
        "id": "nJUPGgse2qTb"
      },
      "source": [
        "**INITIALIZATION:**\r\n",
        "- I use these three lines of code on top of my each notebooks because it will help to prevent the problems while reloading the Project. The third line of code helps to make visualization within the notebook."
      ]
    },
    {
      "cell_type": "code",
      "metadata": {
        "id": "eHTZcPc21Pbr"
      },
      "source": [
        "#@ INITIALIZATION:\r\n",
        "%reload_ext autoreload\r\n",
        "%autoreload 2\r\n",
        "%matplotlib inline"
      ],
      "execution_count": 1,
      "outputs": []
    },
    {
      "cell_type": "markdown",
      "metadata": {
        "id": "PlpzA3vs2w4y"
      },
      "source": [
        "**DOWNLOADING THE DEPENDENCIES:**\r\n",
        "- I have downloaded all the libraries and dependencies required for the Project in one particular cell."
      ]
    },
    {
      "cell_type": "code",
      "metadata": {
        "id": "Y2l3vqYH2tw-"
      },
      "source": [
        "#@ DOWNLOADING THE DEPENDENCIES: UNCOMMENT BELOW:\r\n",
        "# !pip install kora -q                                        # Installing the Dependencies for RDKIT.\r\n",
        "import kora.install.rdkit                                     # Getting RDKIT. \r\n",
        "\r\n",
        "import numpy as np\r\n",
        "import pandas as pd\r\n",
        "import matplotlib.pyplot as plt\r\n",
        "\r\n",
        "from rdkit import Chem, DataStructs\r\n",
        "from rdkit.Chem import PandasTools, AllChem\r\n",
        "\r\n",
        "from sklearn.preprocessing import StandardScaler\r\n",
        "from sklearn.model_selection import train_test_split\r\n",
        "\r\n",
        "import torch\r\n",
        "import torch.nn as nn\r\n",
        "from torch.utils.data import Dataset\r\n",
        "from torch.optim.lr_scheduler import ReduceLROnPlateau\r\n",
        "\r\n",
        "from sklearn.metrics import r2_score"
      ],
      "execution_count": 3,
      "outputs": []
    },
    {
      "cell_type": "code",
      "metadata": {
        "id": "eOFgF6AiJfJE"
      },
      "source": [
        "#@ INSTALLING THE SMILES VECTORIZER: UNCOMMENT BELOW:\r\n",
        "# %cd /content/drive/MyDrive/Colab Notebooks\r\n",
        "# !git clone https://github.com/EBjerrum/molvecgen                  # Cloning the repository. \r\n",
        "# %cd /content/drive/MyDrive/Colab Notebooks/molvecgen\r\n",
        "# !python setup.py install                                          # Installing the Dependencies.  \r\n",
        "from molvecgen.vectorizers import SmilesVectorizer                  # Importing the Vectorizer. "
      ],
      "execution_count": 5,
      "outputs": []
    },
    {
      "cell_type": "markdown",
      "metadata": {
        "id": "oEcLddxH5gGN"
      },
      "source": [
        "**GETTING THE DATA:**\r\n",
        "- I have downloaded the dataset from [ExcapeDB](https://solr.ideaconsult.net/search/excape/). **ExcapeDB** is a project developed as a part of **BigChem**. I will read the data using pandas and manage the dataset."
      ]
    },
    {
      "cell_type": "code",
      "metadata": {
        "colab": {
          "base_uri": "https://localhost:8080/",
          "height": 309
        },
        "id": "xvPjCYjB5mPU",
        "outputId": "5c5d03f5-0e9f-415c-b239-5b09a154bb3b"
      },
      "source": [
        "#@ GETTING THE DATA:\r\n",
        "PATH = \"/content/drive/MyDrive/WORK/Data.csv\"                  # Path to the Data.\r\n",
        "data = pd.read_csv(PATH)                                       # Reading the Data.\r\n",
        "data.head()                                                    # Inspecting the Data. "
      ],
      "execution_count": 6,
      "outputs": [
        {
          "output_type": "execute_result",
          "data": {
            "text/html": [
              "<div>\n",
              "<style scoped>\n",
              "    .dataframe tbody tr th:only-of-type {\n",
              "        vertical-align: middle;\n",
              "    }\n",
              "\n",
              "    .dataframe tbody tr th {\n",
              "        vertical-align: top;\n",
              "    }\n",
              "\n",
              "    .dataframe thead th {\n",
              "        text-align: right;\n",
              "    }\n",
              "</style>\n",
              "<table border=\"1\" class=\"dataframe\">\n",
              "  <thead>\n",
              "    <tr style=\"text-align: right;\">\n",
              "      <th></th>\n",
              "      <th>Ambit_InchiKey</th>\n",
              "      <th>Original_Entry_ID</th>\n",
              "      <th>Entrez_ID</th>\n",
              "      <th>Activity_Flag</th>\n",
              "      <th>pXC50</th>\n",
              "      <th>DB</th>\n",
              "      <th>Original_Assay_ID</th>\n",
              "      <th>Tax_ID</th>\n",
              "      <th>Gene_Symbol</th>\n",
              "      <th>Ortholog_Group</th>\n",
              "      <th>SMILES</th>\n",
              "    </tr>\n",
              "  </thead>\n",
              "  <tbody>\n",
              "    <tr>\n",
              "      <th>0</th>\n",
              "      <td>AZMKBJHIXZCVNL-BXKDBHETNA-N</td>\n",
              "      <td>44590643</td>\n",
              "      <td>6532</td>\n",
              "      <td>A</td>\n",
              "      <td>5.68382</td>\n",
              "      <td>pubchem</td>\n",
              "      <td>393260</td>\n",
              "      <td>9606</td>\n",
              "      <td>SLC6A4</td>\n",
              "      <td>4061</td>\n",
              "      <td>FC1=CC([C@@H]2O[C@H](CC2)CN)=C(OC)C=C1</td>\n",
              "    </tr>\n",
              "    <tr>\n",
              "      <th>1</th>\n",
              "      <td>AZMKBJHIXZCVNL-UHFFFAOYNA-N</td>\n",
              "      <td>11492305</td>\n",
              "      <td>6532</td>\n",
              "      <td>A</td>\n",
              "      <td>5.16210</td>\n",
              "      <td>pubchem</td>\n",
              "      <td>393258</td>\n",
              "      <td>9606</td>\n",
              "      <td>SLC6A4</td>\n",
              "      <td>4061</td>\n",
              "      <td>FC1=CC(C2OC(CC2)CN)=C(OC)C=C1</td>\n",
              "    </tr>\n",
              "    <tr>\n",
              "      <th>2</th>\n",
              "      <td>AZOHUEDNMOIDOC-GETDIYNLNA-N</td>\n",
              "      <td>44419340</td>\n",
              "      <td>6532</td>\n",
              "      <td>A</td>\n",
              "      <td>6.66354</td>\n",
              "      <td>pubchem</td>\n",
              "      <td>276059</td>\n",
              "      <td>9606</td>\n",
              "      <td>SLC6A4</td>\n",
              "      <td>4061</td>\n",
              "      <td>FC1=CC=C(C[C@H]2C[C@@H](N(CC2)CC=C)CCCNC(=O)NC...</td>\n",
              "    </tr>\n",
              "    <tr>\n",
              "      <th>3</th>\n",
              "      <td>AZSKJKSQZWHDOK-VJSLDGLSNA-N</td>\n",
              "      <td>CHEMBL1080745</td>\n",
              "      <td>6532</td>\n",
              "      <td>A</td>\n",
              "      <td>6.96000</td>\n",
              "      <td>chembl20</td>\n",
              "      <td>617082</td>\n",
              "      <td>9606</td>\n",
              "      <td>SLC6A4</td>\n",
              "      <td>4061</td>\n",
              "      <td>C=1C=C(C=CC1)C2=CC(=C(N2CC(C)C)C)C(NCCCN3CCN(C...</td>\n",
              "    </tr>\n",
              "    <tr>\n",
              "      <th>4</th>\n",
              "      <td>AZTPZTRJVCAAMX-UHFFFAOYNA-N</td>\n",
              "      <td>CHEMBL578346</td>\n",
              "      <td>6532</td>\n",
              "      <td>A</td>\n",
              "      <td>8.00000</td>\n",
              "      <td>chembl20</td>\n",
              "      <td>596934</td>\n",
              "      <td>9606</td>\n",
              "      <td>SLC6A4</td>\n",
              "      <td>4061</td>\n",
              "      <td>C1=CC=C2C(=C1)C=C(C(N(C3CCNCC3)C4CCC4)=O)C=C2</td>\n",
              "    </tr>\n",
              "  </tbody>\n",
              "</table>\n",
              "</div>"
            ],
            "text/plain": [
              "                Ambit_InchiKey  ...                                             SMILES\n",
              "0  AZMKBJHIXZCVNL-BXKDBHETNA-N  ...             FC1=CC([C@@H]2O[C@H](CC2)CN)=C(OC)C=C1\n",
              "1  AZMKBJHIXZCVNL-UHFFFAOYNA-N  ...                      FC1=CC(C2OC(CC2)CN)=C(OC)C=C1\n",
              "2  AZOHUEDNMOIDOC-GETDIYNLNA-N  ...  FC1=CC=C(C[C@H]2C[C@@H](N(CC2)CC=C)CCCNC(=O)NC...\n",
              "3  AZSKJKSQZWHDOK-VJSLDGLSNA-N  ...  C=1C=C(C=CC1)C2=CC(=C(N2CC(C)C)C)C(NCCCN3CCN(C...\n",
              "4  AZTPZTRJVCAAMX-UHFFFAOYNA-N  ...      C1=CC=C2C(=C1)C=C(C(N(C3CCNCC3)C4CCC4)=O)C=C2\n",
              "\n",
              "[5 rows x 11 columns]"
            ]
          },
          "metadata": {
            "tags": []
          },
          "execution_count": 6
        }
      ]
    },
    {
      "cell_type": "markdown",
      "metadata": {
        "id": "OLUkn91L5-Rn"
      },
      "source": [
        "### **PREPARING THE DATA:**"
      ]
    },
    {
      "cell_type": "code",
      "metadata": {
        "colab": {
          "base_uri": "https://localhost:8080/",
          "height": 703
        },
        "id": "UBFfuD7E5rqX",
        "outputId": "ed2803c8-708d-4d6d-f64c-a403ef03cc73"
      },
      "source": [
        "#@ DATA EXPLORATION:\r\n",
        "PandasTools.AddMoleculeColumnToFrame(data, \"SMILES\", \"Molecule\")\r\n",
        "data[[\"SMILES\", \"Molecule\"]].head(3)                                    # Inspecting the Data."
      ],
      "execution_count": 7,
      "outputs": [
        {
          "output_type": "execute_result",
          "data": {
            "text/html": [
              "<div>\n",
              "<style scoped>\n",
              "    .dataframe tbody tr th:only-of-type {\n",
              "        vertical-align: middle;\n",
              "    }\n",
              "\n",
              "    .dataframe tbody tr th {\n",
              "        vertical-align: top;\n",
              "    }\n",
              "\n",
              "    .dataframe thead th {\n",
              "        text-align: right;\n",
              "    }\n",
              "</style>\n",
              "<table border=\"1\" class=\"dataframe\">\n",
              "  <thead>\n",
              "    <tr style=\"text-align: right;\">\n",
              "      <th></th>\n",
              "      <th>SMILES</th>\n",
              "      <th>Molecule</th>\n",
              "    </tr>\n",
              "  </thead>\n",
              "  <tbody>\n",
              "    <tr>\n",
              "      <th>0</th>\n",
              "      <td>FC1=CC([C@@H]2O[C@H](CC2)CN)=C(OC)C=C1</td>\n",
              "      <td><img data-content=\"rdkit/molecule\" src=\"data:image/png;base64,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\" alt=\"Mol\"/></td>\n",
              "    </tr>\n",
              "    <tr>\n",
              "      <th>1</th>\n",
              "      <td>FC1=CC(C2OC(CC2)CN)=C(OC)C=C1</td>\n",
              "      <td><img data-content=\"rdkit/molecule\" src=\"data:image/png;base64,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\" alt=\"Mol\"/></td>\n",
              "    </tr>\n",
              "    <tr>\n",
              "      <th>2</th>\n",
              "      <td>FC1=CC=C(C[C@H]2C[C@@H](N(CC2)CC=C)CCCNC(=O)NC...</td>\n",
              "      <td><img data-content=\"rdkit/molecule\" src=\"data:image/png;base64,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\" alt=\"Mol\"/></td>\n",
              "    </tr>\n",
              "  </tbody>\n",
              "</table>\n",
              "</div>"
            ],
            "text/plain": [
              "                                              SMILES                                           Molecule\n",
              "0             FC1=CC([C@@H]2O[C@H](CC2)CN)=C(OC)C=C1  <img data-content=\"rdkit/molecule\" src=\"data:i...\n",
              "1                      FC1=CC(C2OC(CC2)CN)=C(OC)C=C1  <img data-content=\"rdkit/molecule\" src=\"data:i...\n",
              "2  FC1=CC=C(C[C@H]2C[C@@H](N(CC2)CC=C)CCCNC(=O)NC...  <img data-content=\"rdkit/molecule\" src=\"data:i..."
            ]
          },
          "metadata": {
            "tags": []
          },
          "execution_count": 7
        }
      ]
    },
    {
      "cell_type": "markdown",
      "metadata": {
        "id": "EfG1hI8XtH-7"
      },
      "source": [
        "**VECTORIZING THE MOLECULES:**\r\n",
        "- I will be using **Molvecgen Package** to vectorize the smiles. The object is initialized with the generation parameters and subsequently fitted to the dataset which analyzes for what characters it contains the maximal length. "
      ]
    },
    {
      "cell_type": "code",
      "metadata": {
        "id": "rV4n7RZK6HFK",
        "colab": {
          "base_uri": "https://localhost:8080/"
        },
        "outputId": "2be546c9-9ecd-49bb-9eb7-f5b37fe74b75"
      },
      "source": [
        "#@ VECTORIZING THE MOLECULES WITH DATA AUGMENTATION:\r\n",
        "smivec = SmilesVectorizer(pad=1, leftpad=True, canonical=False, augment=True) # Initializing the Smiles Vectorizer. \r\n",
        "smivec.fit(data.Molecule.values, )                                            # Implementation of the Vectorizer. \r\n",
        "print(smivec.charset)                                                         # Inspecting the Character set. \r\n",
        "print(smivec.dims)                                                            # Inspecting the Dimensions of Onehot Encoded Smiles. "
      ],
      "execution_count": 8,
      "outputs": [
        {
          "output_type": "stream",
          "text": [
            "3B#cn/7NO(]4\\o2rFHS6@1-)CIs85l[+=^$?\n",
            "(127, 36)\n"
          ],
          "name": "stdout"
        }
      ]
    },
    {
      "cell_type": "markdown",
      "metadata": {
        "id": "bRFzSenDjx1X"
      },
      "source": [
        "**PREPARING THE DATA:**\r\n",
        "- **PyTorch** needs to be trained on tensors. I will divide the dataset into train, validation and test dataset using **Scikit Learn**. "
      ]
    },
    {
      "cell_type": "code",
      "metadata": {
        "id": "5K9P2d6WhHXz"
      },
      "source": [
        "#@ PREPARING THE DATA:\r\n",
        "y = data.pXC50.values.reshape((-1, 1))                                    # Reshaping the Dataset. \r\n",
        "X = data.Molecule.values                                                  # Preparing the Data. \r\n",
        "X_train, X_test, y_train, y_test = train_test_split(X, y, test_size=0.10, \r\n",
        "                                    random_state=11)                      # Splitting the Dataset into Training set and Test set. \r\n",
        "X_train, X_valid, y_train, y_valid = train_test_split(X_train, y_train, \r\n",
        "                                    test_size=0.05, random_state=11)      # Splitting the Training set into Train and Validation set. \r\n",
        "#@ NORMALIZATION:\r\n",
        "scaler = StandardScaler()                                                 # Initializing the Standard Scaler. \r\n",
        "y_train = scaler.fit_transform(y_train)                                   # Normalizing the Data.\r\n",
        "y_test = scaler.transform(y_test)                                         # Normalizing the Data.\r\n",
        "y_valid = scaler.transform(y_valid)                                       # Normalizing the Data.                                 "
      ],
      "execution_count": 9,
      "outputs": []
    },
    {
      "cell_type": "markdown",
      "metadata": {
        "id": "rD9G4T4wmYnn"
      },
      "source": [
        "**DATASET CLASS:**\r\n",
        "- **PyTorch** works with datasets. I will integrate the vectorizer using subclassing which allow us to load the dataset using **Rdkit** molecular objects and generate the tensors. "
      ]
    },
    {
      "cell_type": "code",
      "metadata": {
        "id": "-Vo3Na5nmJY8",
        "colab": {
          "base_uri": "https://localhost:8080/"
        },
        "outputId": "3dd13db5-60c2-4eb1-cb1c-bc709181bf2b"
      },
      "source": [
        "#@ INTEGRATING THE VECTORIZER IN DATASET CLASS:\r\n",
        "class SMILESDataset(Dataset):                                     # Dataset Class. \r\n",
        "  def __init__(self, molecules, y, vectorizer):\r\n",
        "    self.molecules = molecules\r\n",
        "    self.y = y\r\n",
        "    self.vectorizer = vectorizer\r\n",
        "  def __len__(self):                                              # Subclassing the method. \r\n",
        "    return len(self.molecules)\r\n",
        "  def __getitem__(self, idx):                                     # Subclassing the method. \r\n",
        "    if torch.is_tensor(idx):\r\n",
        "      idx = idx.tolist()\r\n",
        "    mols = self.molecules[idx]\r\n",
        "    sample = self.vectorizer.transform([mols])[0]\r\n",
        "    label = self.y[idx]\r\n",
        "    return sample, label\r\n",
        "#@ CREATING THE DATASET:\r\n",
        "train_dataset = SMILESDataset(X_train, y_train, smivec)           # Invoking the SMILESDataset Class. \r\n",
        "train_dataset[0]                                                  # Inspecting the Dataset. "
      ],
      "execution_count": 10,
      "outputs": [
        {
          "output_type": "execute_result",
          "data": {
            "text/plain": [
              "(array([[0, 0, 0, ..., 0, 0, 0],\n",
              "        [0, 0, 0, ..., 0, 0, 0],\n",
              "        [0, 0, 0, ..., 0, 0, 0],\n",
              "        ...,\n",
              "        [0, 0, 0, ..., 0, 0, 0],\n",
              "        [0, 0, 0, ..., 0, 0, 0],\n",
              "        [0, 0, 0, ..., 0, 1, 0]], dtype=int8), array([-0.19724555]))"
            ]
          },
          "metadata": {
            "tags": []
          },
          "execution_count": 10
        }
      ]
    },
    {
      "cell_type": "markdown",
      "metadata": {
        "id": "IvJfWVAcPJVJ"
      },
      "source": [
        "**PREPARING THE DATA:**\r\n"
      ]
    },
    {
      "cell_type": "code",
      "metadata": {
        "colab": {
          "base_uri": "https://localhost:8080/"
        },
        "id": "9MmhlkXEO3Wh",
        "outputId": "03b84fda-b083-4d02-fc4b-0ea357ec1ee6"
      },
      "source": [
        "#@ PREPARING THE DATA:\r\n",
        "device = torch.device(\"cuda\" if torch.cuda.is_available() else \"cpu\")      # Inspecting if CUDA is available. \r\n",
        "X_valid_t = smivec.transform(X_valid, canonical=False)                     # Vectorization. \r\n",
        "X_valid_t = torch.tensor(X_valid_t, device=device).float()                 # Converting into Float Tensors. \r\n",
        "y_valid_t = torch.tensor(y_valid, device=device).float()                   # Converting into Float Tensors. \r\n",
        "print(X_valid_t.shape, y_valid_t.shape)                                    # Inspecting the Data. "
      ],
      "execution_count": 11,
      "outputs": [
        {
          "output_type": "stream",
          "text": [
            "torch.Size([326, 127, 36]) torch.Size([326, 1])\n"
          ],
          "name": "stdout"
        }
      ]
    },
    {
      "cell_type": "markdown",
      "metadata": {
        "id": "UJT8PigeQjcC"
      },
      "source": [
        "### **BUILDING THE MODEL:**\r\n",
        "- I will define the **LSTM Neural Network** architecture. "
      ]
    },
    {
      "cell_type": "code",
      "metadata": {
        "colab": {
          "base_uri": "https://localhost:8080/"
        },
        "id": "t0_stV-PQXHw",
        "outputId": "e65a88c4-27d0-4825-f636-baacfbed66e3"
      },
      "source": [
        "#@ LSTM MOLECULAR MODEL: \r\n",
        "class Net(nn.Module):                                                                      # LSTM Molecular Model. \r\n",
        "  def __init__(self, dimensions, lstm_size, hidden_size, dropout_size, output_size):\r\n",
        "    super(Net, self).__init__()\r\n",
        "    length = dims[0]\r\n",
        "    number_tokens = dims[1]\r\n",
        "    self.lstm = nn.LSTM(input_size=number_tokens, hidden_size=lstm_size, num_layers=1, \r\n",
        "                        batch_first=True, bidirectional=False)                             # LSTM Layer. \r\n",
        "    self.fc1 = nn.Linear(lstm_size, hidden_size)                                           # Simple Linear Layer. \r\n",
        "    self.activation = nn.ReLU()                                                            # Non Linear RELU Layer. \r\n",
        "    self.fc_out = nn.Linear(hidden_size, output_size)                                      # Output Layer.      \r\n",
        "    self.dropout = nn.Dropout(dropout_size)                                                # Dropout Layer. \r\n",
        "  def forward(self, x):                                                                    # Stacking each layer together. \r\n",
        "    out, (h_n, c_n) = self.lstm(x)                                                         # LSTM Network reads the onehot encoded SMILES. \r\n",
        "    out = self.dropout(h_n)                                                                # Defining the Dropout. \r\n",
        "    out = self.fc1(out)                                                                    # Passing into the Hidden Layer. \r\n",
        "    out = self.activation(out)                                                             # Using RELU Activation.\r\n",
        "    out = self.dropout(out)                                                                # Defining the Dropout. \r\n",
        "    out = self.fc_out(out)                                                                 # Using the Linear Layer for Output. \r\n",
        "    return out\r\n",
        "#@ DEFINING THE PARAMETERS:\r\n",
        "epochs = 750\r\n",
        "dims = smivec.dims\r\n",
        "lstm_size = 128                                                                            # Size of the LSTM Layer. \r\n",
        "hidden_size = 128                                                                          # Size of the Hidden Non Linear Layer. \r\n",
        "dropout_rate = 0.50                                                                        # The Dropout Rate. \r\n",
        "output_size = 1                                                                            # Single Task. \r\n",
        "batch_size = 128                                                                           # Minibatch size during Training. \r\n",
        "learning_rate = 0.003                                                                      # Initial Learning Rate for the Optimizer. \r\n",
        "#@ LSTM MOLECULAR MODEL:\r\n",
        "model = Net(smivec, lstm_size, hidden_size, dropout_rate, output_size)                     # Instantiating the Model. \r\n",
        "model.cuda()"
      ],
      "execution_count": 12,
      "outputs": [
        {
          "output_type": "execute_result",
          "data": {
            "text/plain": [
              "Net(\n",
              "  (lstm): LSTM(36, 128, batch_first=True)\n",
              "  (fc1): Linear(in_features=128, out_features=128, bias=True)\n",
              "  (activation): ReLU()\n",
              "  (fc_out): Linear(in_features=128, out_features=1, bias=True)\n",
              "  (dropout): Dropout(p=0.5, inplace=False)\n",
              ")"
            ]
          },
          "metadata": {
            "tags": []
          },
          "execution_count": 12
        }
      ]
    },
    {
      "cell_type": "code",
      "metadata": {
        "colab": {
          "base_uri": "https://localhost:8080/"
        },
        "id": "Idm0HV7AXnZb",
        "outputId": "ad91dcb2-148f-47f6-fcf3-eccbb351da82"
      },
      "source": [
        "#@ INSPECTING THE MODEL:\r\n",
        "pred = model.forward(X_valid_t[10:11])                          # Implementing the Model. \r\n",
        "pred                                                            # Inspecting the result. "
      ],
      "execution_count": 13,
      "outputs": [
        {
          "output_type": "execute_result",
          "data": {
            "text/plain": [
              "tensor([[[0.0567]]], device='cuda:0', grad_fn=<AddBackward0>)"
            ]
          },
          "metadata": {
            "tags": []
          },
          "execution_count": 13
        }
      ]
    },
    {
      "cell_type": "markdown",
      "metadata": {
        "id": "RaeyFKXDYoHI"
      },
      "source": [
        "**PROCESSING THE MODEL:**"
      ]
    },
    {
      "cell_type": "code",
      "metadata": {
        "id": "J7d3jygXYQgP"
      },
      "source": [
        "#@ PROCESSING THE MODEL:\r\n",
        "criterion = nn.MSELoss()                                                                     # Initializing the Loss Function.\r\n",
        "optimizer = torch.optim.Adam(model.parameters(), lr=learning_rate)                           # Initializing the Optimizer. \r\n",
        "lr_scheduler = ReduceLROnPlateau(optimizer, mode=\"min\", factor=0.5, patience=50,\r\n",
        "                                 verbose=True, threshold=0.0001, threshold_mode=\"rel\", \r\n",
        "                                 cooldown=0, min_lr=1e-6, eps=1e-08)\r\n",
        "#@ PROCESSING THE DATA:\r\n",
        "train_loader = torch.utils.data.DataLoader(dataset=train_dataset,                            # Preparing the Dataset Loader. \r\n",
        "                                           batch_size=batch_size,\r\n",
        "                                           shuffle=True, num_workers=4)\r\n",
        "#@ INSPECTING THE TRAIN LOADER:\r\n",
        "for smiles, labels in train_loader:\r\n",
        "  break"
      ],
      "execution_count": 14,
      "outputs": []
    },
    {
      "cell_type": "markdown",
      "metadata": {
        "id": "QCfMwDTgbESP"
      },
      "source": [
        "**TRAINING THE MODEL:**\r\n"
      ]
    },
    {
      "cell_type": "code",
      "metadata": {
        "colab": {
          "base_uri": "https://localhost:8080/"
        },
        "id": "IzgAGgOXa7vH",
        "outputId": "f1b456c6-767e-4044-d070-b083927c8132"
      },
      "source": [
        "#@ TRAINING THE MODEL:\r\n",
        "model.train()                                                                         # Ensuring the Network in Train Mode. \r\n",
        "train_losses = []                                                                     # Initializing the empty list.\r\n",
        "validation_losses = []                                                                # Initializing the empty list. \r\n",
        "for i in range(epochs):\r\n",
        "  running_loss = 0\r\n",
        "  for smiles, labels in train_loader:\r\n",
        "    smiles = torch.tensor(smiles, device=device).float()                              # Converting into GPU Tensors. \r\n",
        "    labels = torch.tensor(labels, device=device).float()                              # Converting into GPU Tensors. \r\n",
        "    optimizer.zero_grad()                                                             # Initializing the Gradients. \r\n",
        "    output = model(smiles)                                                            # Forward pass of the Minibatch. \r\n",
        "    loss = criterion(output, labels)                                                  # Computing the Loss. \r\n",
        "    loss.backward()                                                                   # Calculating the Backward Pass. \r\n",
        "    torch.nn.utils.clip_grad_norm_(model.parameters(), 1)\r\n",
        "    optimizer.step()                                                                  # Optimizing the Gradients. \r\n",
        "    running_loss += loss.item()\r\n",
        "  else:\r\n",
        "    model.eval()                                                                      # Ensuring the Network in Evaluation Mode. \r\n",
        "    validation_loss = torch.mean((y_valid_t - model(X_valid_t))**2, ).item()          # Calculating the Loss. \r\n",
        "    model.train()                                                                     # Network in Train Mode and Dropout in Active Mode. \r\n",
        "    lr_scheduler.step(validation_loss)                                                # Optimization. \r\n",
        "    train_loss = running_loss / len(train_loader)\r\n",
        "    train_losses.append(train_loss)                                                   # Appending the Training Loss. \r\n",
        "    validation_losses.append(validation_loss)                                         # Appending the Validation Loss. \r\n",
        "    if (i + 1) % 10 == 0:\r\n",
        "      print(\"Epoch %i, Training Loss: %0.2F Validation Loss: %0.2F\" %(i+1, train_loss, \r\n",
        "                                                                      validation_loss))"
      ],
      "execution_count": 15,
      "outputs": [
        {
          "output_type": "stream",
          "text": [
            "/usr/local/lib/python3.6/dist-packages/ipykernel_launcher.py:8: UserWarning: To copy construct from a tensor, it is recommended to use sourceTensor.clone().detach() or sourceTensor.clone().detach().requires_grad_(True), rather than torch.tensor(sourceTensor).\n",
            "  \n",
            "/usr/local/lib/python3.6/dist-packages/ipykernel_launcher.py:9: UserWarning: To copy construct from a tensor, it is recommended to use sourceTensor.clone().detach() or sourceTensor.clone().detach().requires_grad_(True), rather than torch.tensor(sourceTensor).\n",
            "  if __name__ == '__main__':\n",
            "/usr/local/lib/python3.6/dist-packages/torch/nn/modules/loss.py:446: UserWarning: Using a target size (torch.Size([128, 1])) that is different to the input size (torch.Size([1, 128, 1])). This will likely lead to incorrect results due to broadcasting. Please ensure they have the same size.\n",
            "  return F.mse_loss(input, target, reduction=self.reduction)\n",
            "/usr/local/lib/python3.6/dist-packages/torch/nn/modules/loss.py:446: UserWarning: Using a target size (torch.Size([35, 1])) that is different to the input size (torch.Size([1, 35, 1])). This will likely lead to incorrect results due to broadcasting. Please ensure they have the same size.\n",
            "  return F.mse_loss(input, target, reduction=self.reduction)\n"
          ],
          "name": "stderr"
        },
        {
          "output_type": "stream",
          "text": [
            "Epoch 10, Training Loss: 0.85 Validation Loss: 0.89\n",
            "Epoch 20, Training Loss: 0.78 Validation Loss: 0.77\n",
            "Epoch 30, Training Loss: 0.70 Validation Loss: 0.76\n",
            "Epoch 40, Training Loss: 0.66 Validation Loss: 0.70\n",
            "Epoch 50, Training Loss: 0.61 Validation Loss: 0.66\n",
            "Epoch 60, Training Loss: 0.57 Validation Loss: 0.60\n",
            "Epoch 70, Training Loss: 0.55 Validation Loss: 0.60\n",
            "Epoch 80, Training Loss: 0.51 Validation Loss: 0.56\n",
            "Epoch 90, Training Loss: 0.48 Validation Loss: 0.53\n",
            "Epoch 100, Training Loss: 0.45 Validation Loss: 0.53\n",
            "Epoch 110, Training Loss: 0.43 Validation Loss: 0.49\n",
            "Epoch 120, Training Loss: 0.43 Validation Loss: 0.47\n",
            "Epoch 130, Training Loss: 0.41 Validation Loss: 0.49\n",
            "Epoch 140, Training Loss: 0.38 Validation Loss: 0.52\n",
            "Epoch 150, Training Loss: 0.37 Validation Loss: 0.49\n",
            "Epoch 160, Training Loss: 0.37 Validation Loss: 0.44\n",
            "Epoch 170, Training Loss: 0.36 Validation Loss: 0.44\n",
            "Epoch 180, Training Loss: 0.35 Validation Loss: 0.42\n",
            "Epoch 190, Training Loss: 0.35 Validation Loss: 0.42\n",
            "Epoch 200, Training Loss: 0.34 Validation Loss: 0.44\n",
            "Epoch 210, Training Loss: 0.32 Validation Loss: 0.43\n",
            "Epoch   218: reducing learning rate of group 0 to 1.5000e-03.\n",
            "Epoch 220, Training Loss: 0.30 Validation Loss: 0.41\n",
            "Epoch 230, Training Loss: 0.30 Validation Loss: 0.40\n",
            "Epoch 240, Training Loss: 0.29 Validation Loss: 0.39\n",
            "Epoch 250, Training Loss: 0.28 Validation Loss: 0.42\n",
            "Epoch 260, Training Loss: 0.27 Validation Loss: 0.40\n",
            "Epoch 270, Training Loss: 0.28 Validation Loss: 0.39\n",
            "Epoch 280, Training Loss: 0.27 Validation Loss: 0.41\n",
            "Epoch 290, Training Loss: 0.26 Validation Loss: 0.40\n",
            "Epoch 300, Training Loss: 0.25 Validation Loss: 0.41\n",
            "Epoch 310, Training Loss: 0.27 Validation Loss: 0.37\n",
            "Epoch 320, Training Loss: 0.26 Validation Loss: 0.40\n",
            "Epoch 330, Training Loss: 0.26 Validation Loss: 0.40\n",
            "Epoch 340, Training Loss: 0.26 Validation Loss: 0.40\n",
            "Epoch 350, Training Loss: 0.25 Validation Loss: 0.42\n",
            "Epoch 360, Training Loss: 0.24 Validation Loss: 0.38\n",
            "Epoch   361: reducing learning rate of group 0 to 7.5000e-04.\n",
            "Epoch 370, Training Loss: 0.24 Validation Loss: 0.39\n",
            "Epoch 380, Training Loss: 0.23 Validation Loss: 0.39\n",
            "Epoch 390, Training Loss: 0.23 Validation Loss: 0.40\n",
            "Epoch 400, Training Loss: 0.23 Validation Loss: 0.39\n",
            "Epoch 410, Training Loss: 0.23 Validation Loss: 0.39\n",
            "Epoch   412: reducing learning rate of group 0 to 3.7500e-04.\n",
            "Epoch 420, Training Loss: 0.23 Validation Loss: 0.39\n",
            "Epoch 430, Training Loss: 0.22 Validation Loss: 0.39\n",
            "Epoch 440, Training Loss: 0.22 Validation Loss: 0.40\n",
            "Epoch 450, Training Loss: 0.22 Validation Loss: 0.40\n",
            "Epoch 460, Training Loss: 0.22 Validation Loss: 0.39\n",
            "Epoch   463: reducing learning rate of group 0 to 1.8750e-04.\n",
            "Epoch 470, Training Loss: 0.21 Validation Loss: 0.39\n",
            "Epoch 480, Training Loss: 0.21 Validation Loss: 0.39\n",
            "Epoch 490, Training Loss: 0.22 Validation Loss: 0.39\n",
            "Epoch 500, Training Loss: 0.22 Validation Loss: 0.39\n",
            "Epoch 510, Training Loss: 0.22 Validation Loss: 0.39\n",
            "Epoch   514: reducing learning rate of group 0 to 9.3750e-05.\n",
            "Epoch 520, Training Loss: 0.21 Validation Loss: 0.39\n",
            "Epoch 530, Training Loss: 0.21 Validation Loss: 0.39\n",
            "Epoch 540, Training Loss: 0.21 Validation Loss: 0.39\n",
            "Epoch 550, Training Loss: 0.21 Validation Loss: 0.39\n",
            "Epoch 560, Training Loss: 0.21 Validation Loss: 0.39\n",
            "Epoch   565: reducing learning rate of group 0 to 4.6875e-05.\n",
            "Epoch 570, Training Loss: 0.21 Validation Loss: 0.38\n",
            "Epoch 580, Training Loss: 0.21 Validation Loss: 0.39\n",
            "Epoch 590, Training Loss: 0.21 Validation Loss: 0.39\n",
            "Epoch 600, Training Loss: 0.21 Validation Loss: 0.39\n",
            "Epoch 610, Training Loss: 0.21 Validation Loss: 0.39\n",
            "Epoch   616: reducing learning rate of group 0 to 2.3438e-05.\n",
            "Epoch 620, Training Loss: 0.21 Validation Loss: 0.39\n",
            "Epoch 630, Training Loss: 0.21 Validation Loss: 0.39\n",
            "Epoch 640, Training Loss: 0.21 Validation Loss: 0.39\n",
            "Epoch 650, Training Loss: 0.21 Validation Loss: 0.39\n",
            "Epoch 660, Training Loss: 0.21 Validation Loss: 0.39\n",
            "Epoch   667: reducing learning rate of group 0 to 1.1719e-05.\n",
            "Epoch 670, Training Loss: 0.21 Validation Loss: 0.38\n",
            "Epoch 680, Training Loss: 0.21 Validation Loss: 0.39\n",
            "Epoch 690, Training Loss: 0.21 Validation Loss: 0.39\n",
            "Epoch 700, Training Loss: 0.21 Validation Loss: 0.39\n",
            "Epoch 710, Training Loss: 0.21 Validation Loss: 0.38\n",
            "Epoch   718: reducing learning rate of group 0 to 5.8594e-06.\n",
            "Epoch 720, Training Loss: 0.20 Validation Loss: 0.38\n",
            "Epoch 730, Training Loss: 0.21 Validation Loss: 0.38\n",
            "Epoch 740, Training Loss: 0.21 Validation Loss: 0.38\n",
            "Epoch 750, Training Loss: 0.21 Validation Loss: 0.38\n"
          ],
          "name": "stdout"
        }
      ]
    },
    {
      "cell_type": "markdown",
      "metadata": {
        "id": "BjJtJ5zEgoa_"
      },
      "source": [
        "**MODEL EVALUATION:**\r\n",
        "- I will plot the training now. "
      ]
    },
    {
      "cell_type": "code",
      "metadata": {
        "colab": {
          "base_uri": "https://localhost:8080/",
          "height": 265
        },
        "id": "JF2Y2SkygMN_",
        "outputId": "c29cc592-3087-425a-fb73-0355a77a78a8"
      },
      "source": [
        "#@ PLOTTING THE TRAINING:\r\n",
        "plt.plot(train_losses, label=\"Train\")\r\n",
        "plt.plot(validation_losses, label=\"Validation\")\r\n",
        "plt.legend()\r\n",
        "plt.show()                                                  # Plotting the Training. "
      ],
      "execution_count": 16,
      "outputs": [
        {
          "output_type": "display_data",
          "data": {
            "image/png": "[encoded data removed]",
            "text/plain": [
              "<Figure size 432x288 with 1 Axes>"
            ]
          },
          "metadata": {
            "tags": [],
            "needs_background": "light"
          }
        }
      ]
    },
    {
      "cell_type": "markdown",
      "metadata": {
        "id": "LzUz3lvficlO"
      },
      "source": [
        "**MODEL EVALUATION:**\r\n",
        "- Before using the model for prediction, it must be set to the evaluation mode, where the dropout layers are no longer active. "
      ]
    },
    {
      "cell_type": "code",
      "metadata": {
        "colab": {
          "base_uri": "https://localhost:8080/"
        },
        "id": "RBSWccqyili5",
        "outputId": "45239a22-121e-47f4-cad6-69043d107637"
      },
      "source": [
        "#@ EVALUATING THE PERFORMANCE:\r\n",
        "model.eval()                                            # Switching to evaluation mode. \r\n",
        "y_pred_valid = model(X_valid_t)                         # Predicting the Validation Data. \r\n",
        "print(torch.mean((y_valid_t - y_pred_valid)**2).item()) # Inspecting the result. "
      ],
      "execution_count": 17,
      "outputs": [
        {
          "output_type": "stream",
          "text": [
            "0.38341572880744934\n"
          ],
          "name": "stdout"
        }
      ]
    },
    {
      "cell_type": "markdown",
      "metadata": {
        "id": "eUYalGkmkMGP"
      },
      "source": [
        "**MODEL EVALUATION:**\r\n"
      ]
    },
    {
      "cell_type": "code",
      "metadata": {
        "colab": {
          "base_uri": "https://localhost:8080/"
        },
        "id": "ZJjzqShpDvTE",
        "outputId": "79013584-ae33-4072-832b-9b1fcc790858"
      },
      "source": [
        "y_test_t = torch.tensor(y_test, device=device).float()        # Converting into GPU Tensors. \r\n",
        "y_pred_test = model(X_test_t)                                 # Predicting the Test Data. \r\n",
        "y_pred = np.array(y_pred_test.tolist()).flatten()\r\n",
        "y_test = np.array(y_test_t.tolist()).flatten()\r\n",
        "y_test.shape, y_pred.shape"
      ],
      "execution_count": 21,
      "outputs": [
        {
          "output_type": "execute_result",
          "data": {
            "text/plain": [
              "((723,), (723,))"
            ]
          },
          "metadata": {
            "tags": []
          },
          "execution_count": 21
        }
      ]
    },
    {
      "cell_type": "code",
      "metadata": {
        "colab": {
          "base_uri": "https://localhost:8080/"
        },
        "id": "xRWYefpxkENZ",
        "outputId": "529c9070-5900-48c4-c5b3-7f187ba85a8c"
      },
      "source": [
        "#@ PROCESSING THE TRAIN AND TEST SET:\r\n",
        "X_train_t = smivec.transform(X_train, canonical=False)        # Vectorization. \r\n",
        "X_train_t = torch.tensor(X_train_t, device=device).float()    # Converting into GPU Tensors. \r\n",
        "y_train_t = torch.tensor(y_train, device=device).float()      # Converting into GPU Tensors. \r\n",
        "X_test_t = smivec.transform(X_test, canonical=False)          # Vectorization of Test Dataset. \r\n",
        "X_test_t = torch.tensor(X_test_t, device=device).float()      # Converting into GPU Tensors. \r\n",
        "y_test_t = torch.tensor(y_test, device=device).float()        # Converting into GPU Tensors. \r\n",
        "#@ EVALUATING THE PERFORMANCE:\r\n",
        "y_pred_train = model(X_train_t)                               # Predicting the Training Data. \r\n",
        "y_pred_test = model(X_test_t)                                 # Predicting the Test Data. \r\n",
        "train_rmse = torch.mean((y_train_t - y_pred_train)**2).item() # Calculating the RMSE. \r\n",
        "test_rmse = torch.mean((y_test_t - y_pred_test)**2).item()    # Calculating the RMSE.\r\n",
        "print(\"Train RMSE: %0.3F \\nTest RMSE: %0.3F\" % (train_rmse,\r\n",
        "                                                test_rmse))   # Inspecting the RMSE. \r\n",
        "#@ EVALUATING THE PERFORMANCE:\r\n",
        "y_test_t= np.array(y_test_t.tolist()).flatten()\r\n",
        "y_pred_test= np.array(y_pred_test.tolist()).flatten()\r\n",
        "r_square = r2_score(y_test_t, y_pred_test)                    # Calculating the R2. \r\n",
        "print(f\"R^2: {r_square}\")"
      ],
      "execution_count": 22,
      "outputs": [
        {
          "output_type": "stream",
          "text": [
            "Train RMSE: 0.182 \n",
            "Test RMSE: 1.707\n",
            "R^2: 0.6529237210980361\n"
          ],
          "name": "stdout"
        }
      ]
    },
    {
      "cell_type": "code",
      "metadata": {
        "colab": {
          "base_uri": "https://localhost:8080/",
          "height": 266
        },
        "id": "UUh0OiWxm0z_",
        "outputId": "f7e6e642-a1a7-4b39-e1c4-64cc00791f0f"
      },
      "source": [
        "#@ ESTIMATING USING SCATTERPLOT:\r\n",
        "plt.scatter(np.array(y_pred_train.tolist()).flatten(), np.array(y_train_t.tolist()).flatten(), alpha=0.1)\r\n",
        "plt.scatter(np.array(y_pred_valid.tolist()).flatten(), np.array(y_valid_t.tolist()).flatten(), alpha=0.5)\r\n",
        "plt.plot([-1.5, 1.5], [-1.5, 1.5], c=\"b\")\r\n",
        "plt.show()"
      ],
      "execution_count": 23,
      "outputs": [
        {
          "output_type": "display_data",
          "data": {
            "image/png": "[encoded data removed]",
            "text/plain": [
              "<Figure size 432x288 with 1 Axes>"
            ]
          },
          "metadata": {
            "tags": [],
            "needs_background": "light"
          }
        }
      ]
    }
  ]
}